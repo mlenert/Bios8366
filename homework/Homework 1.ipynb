{
 "cells": [
  {
   "cell_type": "markdown",
   "metadata": {},
   "source": [
    "Answer all questions and submit them either as an IPython notebook, LaTeX document, or Markdown document. Each question is worth 25 points.\n",
    "\n",
    "**Answers are due by Tuesday, September 25, 2018**"
   ]
  },
  {
   "cell_type": "markdown",
   "metadata": {},
   "source": [
    "## Question 1\n",
    "\n",
    "The data below provides counts of a flour beetle (Tribolium confusum) population at various points in time:"
   ]
  },
  {
   "cell_type": "code",
   "execution_count": 3,
   "metadata": {},
   "outputs": [
    {
     "data": {
      "text/plain": [
       "[<matplotlib.lines.Line2D at 0x10199f5358>]"
      ]
     },
     "execution_count": 3,
     "metadata": {},
     "output_type": "execute_result"
    },
    {
     "data": {
      "image/png": "[encoded data removed]",
      "text/plain": [
       "<Figure size 432x288 with 1 Axes>"
      ]
     },
     "metadata": {},
     "output_type": "display_data"
    }
   ],
   "source": [
    "%matplotlib inline\n",
    "import matplotlib.pyplot as plt\n",
    "import numpy as np\n",
    "\n",
    "days = 0,8,28,41,63,79,97,117,135,154\n",
    "beetles = 2,47,192,256,768,896,1120,896,1184,1024\n",
    "\n",
    "plt.plot(days, beetles)"
   ]
  },
  {
   "cell_type": "markdown",
   "metadata": {},
   "source": [
    "An elementary model for population growth is the logistic model:\n",
    "\n",
    "$$\\frac{dN}{dt} = rN\\left(1 - \\frac{N}{K}\\right)$$\n",
    "\n",
    "where $N$ is population size, $t$ is time, $r$ is a growth rate parameter, and $K$ is a parameter that represents the population carrying capacity of the environment. The solution to this differential equation is given by: \n",
    "\n",
    "$$N_t = f(t) = \\frac{KN_0}{N_0 + (K - N_0)\\exp(-rt)}$$\n",
    "\n",
    "where $N_t$ denotes the population size at time $t$. \n",
    "\n",
    "1. Fit the logistic growth model to the flour beetle data using the Newton–Raphson approach to minimize the sum of squared errors between model predictions and observed counts.\n",
    "\n",
    "2. In many population modeling applications, an assumption of lognormality is adopted. The simplest assumption would be that the $\\log(N_t)$ are independent and normally distributed with mean $\\log[f(t)]$ and variance $\\sigma^2$. Find the MLEs under this assumption, and provide estimates of standard errors and correlation between them."
   ]
  },
  {
   "cell_type": "code",
   "execution_count": 521,
   "metadata": {},
   "outputs": [],
   "source": [
    "# Part 1\n",
    "from scipy import optimize\n",
    "\n",
    "# Logistic growth equation\n",
    "def solveLogisticGrowth(initial_number, rate, capacity, time):\n",
    "    return ((capacity*initial_number)/(initial_number+(capacity-initial_number)*np.exp(-1*rate*time)))\n",
    "\n",
    "# Partial derivative of logistic growth equation with respect to rate\n",
    "def d_rate(initial_number, rate, capacity, time):\n",
    "    return((capacity*initial_number*time*(capacity-initial_number)*np.exp(-1*rate*time))/(initial_number+(capacity-initial_number)*np.exp(-1*rate*time))**2)\n",
    "\n",
    "# Partial derivative of logistic growth equation with respect to capacity\n",
    "def d_capacity(initial_number, rate, capacity, time):\n",
    "    return(((initial_number**2)*np.exp(time*rate)*(np.exp(time*rate)-1))/(capacity+initial_number*(np.exp(time*rate)-1))**2)\n",
    "\n",
    "# Generate predictions\n",
    "def predict(func,initial_number, rate, capacity, timePoints):\n",
    "    return(np.array([func(initial_number,rate,capacity,time) for time in timePoints]))\n",
    "    \n",
    "# The function to be optimized \n",
    "def solve_SSE(x,*args):\n",
    "    endogenous=args[0]\n",
    "    yHat=predict(solveLogisticGrowth,args[1],x[0],x[1],args[2])\n",
    "    return(np.sum(np.square(yHat-np.array(endogenous))))\n",
    "\n",
    "# Solve partial derivatives of SSE\n",
    "def solve_dSSE(x,*args):\n",
    "    endogenous=args[0]\n",
    "    yHat=predict(solveLogisticGrowth,args[1],x[0],x[1],args[2])\n",
    "    \n",
    "    # Calculate predictions for partial of rate\n",
    "    ratePartial=predict(d_rate,args[1],x[0],x[1],args[2])\n",
    "    \n",
    "    #Calculate predictions for partial of capacity\n",
    "    capacityPartial=predict(d_capacity,args[1],x[0],x[1],args[2])\n",
    "    \n",
    "    return(np.array([np.sum(2*(yHat-np.array(endogenous))*ratePartial),np.sum(2*(yHat-np.array(endogenous))*capacityPartial)]))\n",
    "\n",
    "def fitLogisticGrowth(endogenous,timePoints,rateInit,capacityInit, tol=1e-4, max_iter=10000):\n",
    "    SSEdiff=1\n",
    "    i = 0\n",
    "    SSEprev=0\n",
    "    rate=rateInit\n",
    "    capacity=capacityInit\n",
    "    initial_number=endogenous[0]\n",
    "    \n",
    "    while (SSEdiff > tol) and (i < max_iter):\n",
    "\n",
    "        SSE=solve_SSE([rate,capacity],endogenous,initial_number,timePoints)\n",
    "        dRate, dCapacity=solve_dSSE([rate,capacity],endogenous,initial_number,timePoints)\n",
    "        \n",
    "        # Shrink step size as SSE shirnks \n",
    "        r_step=SSE/1000000000000000\n",
    "        c_step= SSE/100000000\n",
    "        \n",
    "        SSEdiff=np.abs(SSE-SSEprev)\n",
    "        rate += -dRate*r_step\n",
    "        capacity += -dCapacity*c_step\n",
    "        SSEprev=SSE\n",
    "        i+=1\n",
    "        \n",
    "    if i>=max_iter:\n",
    "        print(\"Failed to Converge\")\n",
    "    \n",
    "    return({\"rate\":rate,\"capacity\":capacity, \"SSE\":SSE})"
   ]
  },
  {
   "cell_type": "code",
   "execution_count": 522,
   "metadata": {},
   "outputs": [
    {
     "data": {
      "text/plain": [
       "{'rate': 0.11795435223430668,\n",
       " 'capacity': 1033.5564420634043,\n",
       " 'SSE': 83240.49407026863}"
      ]
     },
     "execution_count": 522,
     "metadata": {},
     "output_type": "execute_result"
    }
   ],
   "source": [
    "results=fitLogisticGrowth(beetles,days,days[-1]/beetles[-1],max(beetles))\n",
    "results"
   ]
  },
  {
   "cell_type": "code",
   "execution_count": 523,
   "metadata": {},
   "outputs": [
    {
     "data": {
      "text/plain": [
       "[<matplotlib.lines.Line2D at 0x101b2c0128>]"
      ]
     },
     "execution_count": 523,
     "metadata": {},
     "output_type": "execute_result"
    },
    {
     "data": {
      "image/png": "[encoded data removed]",
      "text/plain": [
       "<Figure size 432x288 with 1 Axes>"
      ]
     },
     "metadata": {},
     "output_type": "display_data"
    }
   ],
   "source": [
    "plt.plot(days, predict(solveLogisticGrowth,2,results[\"rate\"],results[\"capacity\"],days))\n",
    "plt.plot(days,beetles)"
   ]
  },
  {
   "cell_type": "code",
   "execution_count": null,
   "metadata": {},
   "outputs": [],
   "source": []
  },
  {
   "cell_type": "markdown",
   "metadata": {},
   "source": [
    "## Question 2\n",
    "\n",
    "1. Implement simulated annealing for minimizing the AIC for the baseball salary regression problem. Model your algorithm on the example given in class. \n",
    "\n",
    "    1. Compare the effects of different cooling schedules (different temperatures and different durations at each temperature).  \n",
    "    2. Compare the effect of a proposal distribution that is discrete uniform over 2-neighborhoods versus one that is discrete uniform over 3-neighborhoods.\n",
    "\n",
    "2. Implement a genetic algorithm for minimizing the AIC for the baseball salary regression problem. Model your algorithm on Example 3.5. \n",
    "\n",
    "    1. Compare the effects of using different mutation rates.  \n",
    "    2. Compare the effects of using different generation sizes.  \n",
    "    3. Instead of the selection mechanism used in the class example, try using independent selection of both parents with probabilities proportional to their fitness.\n",
    "\n"
   ]
  },
  {
   "cell_type": "code",
   "execution_count": 2,
   "metadata": {},
   "outputs": [],
   "source": [
    "import pandas as pd\n",
    "from sklearn.linear_model import LinearRegression\n",
    "\n",
    "baseball = pd.read_table('data/textbook/baseball.dat', sep='\\s+')\n",
    "\n",
    "logsalary = baseball.salary.apply(np.log)\n",
    "predictors = baseball.loc[:, 'average':]\n",
    "nrows, ncols = predictors.shape"
   ]
  },
  {
   "cell_type": "markdown",
   "metadata": {},
   "source": [
    "## Question 3\n",
    "\n",
    "Use the combinatorial optimization method of your choice to obtain a solution to the traveling salesman problem for the Brazilian cities described in the lecture notes, using minimum total distance as the criterion. Use the the first city listed in the dataset as \"home\" (*i.e.* the trip must start and end there. I will award 5 bonus points to the best solution!"
   ]
  },
  {
   "cell_type": "code",
   "execution_count": 3,
   "metadata": {},
   "outputs": [],
   "source": [
    "def parse_latlon(x):\n",
    "    d, m, s = map(float, x.split(':'))\n",
    "    ms = m/60. + s/3600.\n",
    "    if d<0:\n",
    "        return d - ms\n",
    "    return d + ms\n",
    "\n",
    "cities =  pd.read_csv('data/brasil_capitals.txt', \n",
    "                      names=['city','lat','lon'])[['lat','lon']].applymap(parse_latlon).values"
   ]
  },
  {
   "cell_type": "markdown",
   "metadata": {},
   "source": [
    "## Question 4\n",
    "\n",
    "The `../data/ebola` folder contains summarized reports of Ebola cases from three countries during the recent outbreak of the disease in West Africa. For each country, there are daily reports that contain various information about the outbreak in several cities in each country.\n",
    "\n",
    "From these data files, use pandas to import them and create a single data frame that includes the daily totals of new cases and deaths for each country."
   ]
  },
  {
   "cell_type": "code",
   "execution_count": 292,
   "metadata": {},
   "outputs": [],
   "source": [
    "import os\n",
    "import numpy as np\n",
    "import pandas as pd\n",
    "\n",
    "# Set up file paths and parameters for file loading\n",
    "path=\"/Users/matthewlenert/Documents/4F|Adv Stat Computing/Bios8366/data/ebola/\"\n",
    "\n",
    "\n",
    "# Record import column names in files and variables relevant to case/death count. \n",
    "# Case and death counts should include suspected and probable cases/deaths to avoid underestimating the scope of the outbreak\n",
    "\n",
    "folders={\"sl_data/\":{\"casesColVals\":[\"new_suspected\",\"new_probable\",\"new_confirmed\"]\n",
    "                    ,\"colNames\":[\"date\",\"variable\",\"National\"]\n",
    "                    ,\"deathColVals\":[\"death_suspected\",\"death_probable\",\"death_confirmed\"]}\n",
    "         ,\"guinea_data/\":{\"casesColVals\":[\"New cases of suspects\",\"New cases of probables\",\"New cases of confirmed\"]\n",
    "                    ,\"colNames\":[\"Date\",\"Description\",\"Totals\"]\n",
    "                    ,\"deathColVals\":[\"New deaths registered\",\"New deaths registered today (confirmed)\",\"New deaths registered today (probables)\",\"New deaths registered today (suspects)\"]}\n",
    "         ,\"liberia_data/\":{\"casesColVals\":[\"New Case/s (Suspected)\",\"New Case/s (Probable)\",\"New case/s (confirmed)\"]\n",
    "                    ,\"colNames\":[\"Date\",\"Variable\",\"National\"]\n",
    "                    ,\"deathColVals\":[\"Newly reported deaths\"]}\n",
    "        }\n",
    "\n"
   ]
  },
  {
   "cell_type": "code",
   "execution_count": 293,
   "metadata": {},
   "outputs": [],
   "source": [
    "# Intialize output variable\n",
    "countryDF=[]\n",
    "\n",
    "# Loop over different country directories\n",
    "for folder in folders:\n",
    "    files = [f for f in os.listdir(path+folder)]\n",
    "    \n",
    "    columns=folders[folder][\"colNames\"]\n",
    "    \n",
    "    # Loop over files in country directory\n",
    "    for f in files:\n",
    "        df=pd.read_csv(path+folder+f,index_col=False)\n",
    "        df=df.drop(columns[2],1)\n",
    "        numericCols=[col for col in df.columns.values if col not in columns]\n",
    "        \n",
    "        # Convert death totals by province into integers\n",
    "        death=df[df[columns[1]].isin(folders[folder][\"deathColVals\"])].drop(columns[1],1)\n",
    "        death[numericCols]=death[numericCols].astype(np.float32)\n",
    "        \n",
    "        # Sum death totals by province to form national total\n",
    "        death=death.groupby(columns[0]).sum()\n",
    "        death[\"Deaths\"]=death.sum(axis=1)\n",
    "        \n",
    "        # Add Country label\n",
    "        death[\"Country\"]=folder.split(\"_\")[0]\n",
    "        \n",
    "        # Convert case totals by province into integers\n",
    "        cases=df[df[columns[1]].isin(folders[folder][\"casesColVals\"])].drop(columns[1],1)\n",
    "        cases[numericCols]=cases[numericCols].astype(np.float32)\n",
    "        \n",
    "        # Sum case total by province to form national total\n",
    "        cases=cases.groupby(columns[0]).sum()\n",
    "        death[\"Cases\"]=cases.sum(axis=1)\n",
    "        \n",
    "        # Append to list to concatenate\n",
    "        countryDF.append(death[[\"Country\",\"Cases\",\"Deaths\"]])\n",
    "         \n",
    "# Concatenate rows into single dataframe and convert index to dateTime        \n",
    "countryDF=pd.concat(countryDF,axis=0)\n",
    "countryDF.index=pd.to_datetime(countryDF.index)    \n",
    "\n",
    "# Add Country column to index and re-sort data to make the index functional\n",
    "countryDF=countryDF.set_index(['Country'], append=True)\n",
    "countryDF.sort_index(ascending=True, inplace=True)"
   ]
  },
  {
   "cell_type": "code",
   "execution_count": 295,
   "metadata": {},
   "outputs": [],
   "source": [
    "countryDF"
   ]
  },
  {
   "cell_type": "code",
   "execution_count": null,
   "metadata": {},
   "outputs": [],
   "source": []
  }
 ],
 "metadata": {
  "anaconda-cloud": {},
  "kernelspec": {
   "display_name": "Python 3",
   "language": "python",
   "name": "python3"
  },
  "language_info": {
   "codemirror_mode": {
    "name": "ipython",
    "version": 3
   },
   "file_extension": ".py",
   "mimetype": "text/x-python",
   "name": "python",
   "nbconvert_exporter": "python",
   "pygments_lexer": "ipython3",
   "version": "3.6.6"
  },
  "latex_envs": {
   "bibliofile": "biblio.bib",
   "cite_by": "apalike",
   "current_citInitial": 1,
   "eqLabelWithNumbers": true,
   "eqNumInitial": 0
  },
  "nav_menu": {},
  "toc": {
   "navigate_menu": true,
   "number_sections": false,
   "sideBar": false,
   "threshold": "3",
   "toc_cell": true,
   "toc_section_display": "block",
   "toc_window_display": false
  }
 },
 "nbformat": 4,
 "nbformat_minor": 2
}
